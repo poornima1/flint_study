{
 "cells": [
  {
   "cell_type": "code",
   "execution_count": 1,
   "metadata": {},
   "outputs": [],
   "source": [
    "import pandas as pd\n",
    "import numpy as np\n",
    "from numpy import sort\n",
    "\n",
    "\n",
    "# visualization libraries\n",
    "import matplotlib.pyplot as plt\n",
    "import matplotlib.cm\n",
    "import seaborn as sns\n",
    "%matplotlib inline\n",
    "import folium\n",
    "\n",
    "from sklearn.preprocessing import OneHotEncoder\n",
    "from sklearn import preprocessing\n",
    "\n",
    "from sklearn.model_selection import train_test_split\n",
    "from sklearn.metrics import confusion_matrix, precision_recall_fscore_support, accuracy_score\n",
    "from sklearn.feature_selection import SelectFromModel\n",
    "\n",
    "\n",
    "from xgboost import XGBClassifier\n",
    "from xgboost import plot_importance\n"
   ]
  },
  {
   "cell_type": "code",
   "execution_count": 2,
   "metadata": {},
   "outputs": [],
   "source": [
    "df = pd.read_csv('flint.csv')"
   ]
  },
  {
   "cell_type": "code",
   "execution_count": 3,
   "metadata": {},
   "outputs": [],
   "source": [
    "df.rename(columns={'Year Built': 'YearBuilt'}, inplace=True)"
   ]
  },
  {
   "cell_type": "code",
   "execution_count": 4,
   "metadata": {},
   "outputs": [
    {
     "data": {
      "text/plain": [
       "<matplotlib.axes._subplots.AxesSubplot at 0x11657db0>"
      ]
     },
     "execution_count": 4,
     "metadata": {},
     "output_type": "execute_result"
    },
    {
     "data": {
      "image/png": "[encoded data removed]",
      "text/plain": [
       "<Figure size 432x288 with 1 Axes>"
      ]
     },
     "metadata": {},
     "output_type": "display_data"
    }
   ],
   "source": [
    "sns.set()\n",
    "\n",
    "sns.distplot(df['YearBuilt'])"
   ]
  },
  {
   "cell_type": "code",
   "execution_count": 5,
   "metadata": {},
   "outputs": [
    {
     "data": {
      "text/plain": [
       "1     1650\n",
       "0      542\n",
       "11     500\n",
       "5      275\n",
       "10       9\n",
       "4        6\n",
       "9        5\n",
       "8        4\n",
       "7        3\n",
       "2        3\n",
       "6        2\n",
       "3        1\n",
       "Name: SL_Type, dtype: int64"
      ]
     },
     "execution_count": 5,
     "metadata": {},
     "output_type": "execute_result"
    }
   ],
   "source": [
    "df['SL_Type'].value_counts()"
   ]
  },
  {
   "cell_type": "code",
   "execution_count": 6,
   "metadata": {},
   "outputs": [
    {
     "data": {
      "text/plain": [
       "Index(['Property Zip Code', 'Owner Type', 'Owner State', 'Homestead',\n",
       "       'Homestead Percent', 'HomeSEV', 'Land Value', 'Land Improvements Value',\n",
       "       'Residential Building Value', 'Residential Building Style',\n",
       "       'Commercial Building Value', 'Building Storeys', 'Parcel Acres',\n",
       "       'Rental', 'Use Type', 'Prop Class', 'Old Prop class', 'YearBuilt',\n",
       "       'USPS Vacancy', 'Zoning', 'Future Landuse', 'DRAFT Zone',\n",
       "       'Housing Condition 2012', 'Housing Condition 2014',\n",
       "       'Commercial Condition 2013', 'Latitude', 'Longitude', 'Hydrant Type',\n",
       "       'Ward', 'PRECINCT', 'CENTRACT', 'CENBLOCK', 'SL_Type', 'SL_Type2',\n",
       "       'Ed_July', 'Ed_March', 'Last_Test', 'Max_Lead', 'Med_Lead', 'Num_Tests',\n",
       "       'Res_Test', 'Sen_Test', 'SL_private_inspection',\n",
       "       'B_median_age_all_women', 'B_median_age_all_men', 'B_median_age_all',\n",
       "       'B_median_age_all_women_white', 'B_median_age_all_men_white',\n",
       "       'B_median_age_all_white', 'B_median_age_all_women_black',\n",
       "       'B_median_age_all_men_black', 'B_median_age_all_black',\n",
       "       'B_total_black_pop', 'B_total_white_pop', 'B_married_couples',\n",
       "       'B_single_women', 'B_married_couples_white', 'B_single_women_white',\n",
       "       'B_married_couples_black', 'B_single_women_black',\n",
       "       'B_married_couples_w_children', 'B_single_mothers_w_children',\n",
       "       'B_households_w_elderly', 'B_househod_no_elderly', 'B_aggregate_income',\n",
       "       'B_speak_spanish', 'B_speak_only_english', 'B_no_english',\n",
       "       'B_hispanic_household', 'B_imputed_rent', 'B_imputed_value',\n",
       "       'sl_private_type', 'sl_public_type'],\n",
       "      dtype='object')"
      ]
     },
     "execution_count": 6,
     "metadata": {},
     "output_type": "execute_result"
    }
   ],
   "source": [
    "df.columns"
   ]
  },
  {
   "cell_type": "code",
   "execution_count": 7,
   "metadata": {},
   "outputs": [],
   "source": [
    "df['SL_private_inspection'].fillna('Iron', inplace=True)\n",
    "df.loc[ (~df['SL_private_inspection'].isin(['Copper', 'Galvanized'])), 'SL_private_inspection' ] = False"
   ]
  },
  {
   "cell_type": "code",
   "execution_count": 8,
   "metadata": {},
   "outputs": [],
   "source": [
    "df['B_imputed_rent'].fillna(0, inplace=True) \n",
    "df['B_imputed_value'].fillna(0, inplace=True) "
   ]
  },
  {
   "cell_type": "code",
   "execution_count": 9,
   "metadata": {},
   "outputs": [],
   "source": [
    "df['SL_Lead'] = False\n",
    "df.loc[ (df['sl_public_type'].isin (['LEAD','GALVANIZED']) ) & (df['sl_private_type'].isin(['LEAD','GALVANIZED']) ), 'SL_Lead' ] = True"
   ]
  },
  {
   "cell_type": "code",
   "execution_count": 10,
   "metadata": {},
   "outputs": [
    {
     "data": {
      "text/plain": [
       "['Residential Building Value',\n",
       " 'Land Value',\n",
       " 'Commercial Building Value',\n",
       " 'Parcel Acres',\n",
       " 'Building Storeys',\n",
       " 'Rental',\n",
       " 'Use Type',\n",
       " 'Prop Class',\n",
       " 'Old Prop class',\n",
       " 'Res_Test',\n",
       " 'Sen_Test',\n",
       " 'SL_private_inspection',\n",
       " 'Commercial Condition 2013',\n",
       " 'Latitude',\n",
       " 'Longitude',\n",
       " 'Hydrant Type',\n",
       " 'USPS Vacancy',\n",
       " 'Zoning',\n",
       " 'Future Landuse',\n",
       " 'DRAFT Zone',\n",
       " 'Ward',\n",
       " 'PRECINCT',\n",
       " 'CENTRACT',\n",
       " 'CENBLOCK',\n",
       " 'SL_Type',\n",
       " 'SL_Type2',\n",
       " 'Ed_July',\n",
       " 'Ed_March',\n",
       " 'Last_Test',\n",
       " 'Max_Lead',\n",
       " 'Med_Lead',\n",
       " 'Num_Tests',\n",
       " 'B_imputed_value',\n",
       " 'B_total_black_pop',\n",
       " 'B_total_white_pop',\n",
       " 'SL_Lead',\n",
       " 'Age']"
      ]
     },
     "execution_count": 10,
     "metadata": {},
     "output_type": "execute_result"
    }
   ],
   "source": [
    "#Uncomment below lines to run with 37 features selected\n",
    "\n",
    "features_df = df[['YearBuilt', 'Residential Building Value', 'Land Value',\n",
    "       'Commercial Building Value', 'Parcel Acres', 'YearBuilt', 'Building Storeys',\n",
    "                  'Rental', 'Use Type', 'Prop Class', 'Old Prop class',\n",
    "                  'Res_Test', 'Sen_Test', 'SL_private_inspection',\n",
    "                  'Commercial Condition 2013', 'Latitude', 'Longitude', 'Hydrant Type',\n",
    "                         'USPS Vacancy', 'Zoning', 'Future Landuse', 'DRAFT Zone',\n",
    "                         'Ward', 'PRECINCT', 'CENTRACT', 'CENBLOCK', 'SL_Type', 'SL_Type2',\n",
    "                         'Ed_July', 'Ed_March', 'Last_Test', 'Max_Lead', 'Med_Lead', 'Num_Tests',\n",
    "                        'B_imputed_value',\n",
    "                  'B_total_black_pop', 'B_total_white_pop',\n",
    "                  'SL_Lead']].copy()\n",
    "\n",
    "#Uncomment below lines to run with only five features selected\n",
    "#features_df = df[['YearBuilt', 'SL_Type', 'Latitude', 'Residential Building Value', 'Longitude',\n",
    "#                  'SL_Lead']].copy()\n",
    "\n",
    "#Uncomment below lines to run with only two features\n",
    "#features_df = df[['YearBuilt', 'Latitude',\n",
    "#                  'SL_Lead']].copy()\n",
    "\n",
    "\n",
    "features_df['Age'] = 2019 - df['YearBuilt']\n",
    "features_df = features_df.drop(columns='YearBuilt', axis=1)\n",
    "\n",
    "list(features_df.columns)\n",
    "\n",
    "######### Features that seem to reduce accuracy\n",
    "# 'B_imputed_rent',\n",
    "#                         'B_median_age_all_women', 'B_median_age_all_men', 'B_median_age_all',\n",
    "#      'B_median_age_all_women_white', 'B_median_age_all_men_white',\n",
    "#       'B_median_age_all_white', 'B_median_age_all_women_black',\n",
    "#                  'Property Zip Code',\n"
   ]
  },
  {
   "cell_type": "code",
   "execution_count": 11,
   "metadata": {},
   "outputs": [
    {
     "data": {
      "text/plain": [
       "(2100, 97)"
      ]
     },
     "execution_count": 11,
     "metadata": {},
     "output_type": "execute_result"
    }
   ],
   "source": [
    "Y = features_df['SL_Lead']\n",
    "X = features_df.drop(columns='SL_Lead', axis=1)\n",
    "\n",
    "enc_X = pd.get_dummies(X)\n",
    "\n",
    "Xtrain, Xtest, Ytrain, Ytest = train_test_split(enc_X, Y, test_size = 0.3, random_state = 2018,stratify = Y)\n",
    "\n",
    "Xtest.shape\n",
    "Xtrain.shape"
   ]
  },
  {
   "cell_type": "code",
   "execution_count": 12,
   "metadata": {},
   "outputs": [
    {
     "name": "stdout",
     "output_type": "stream",
     "text": [
      "Accuracy is  0.8477777777777777\n",
      "Precision is  0.6701030927835051\n",
      "Recall is  0.6403940886699507\n",
      "\n",
      "Confusion Matrics\n",
      "      0    1\n",
      "0  633   64\n",
      "1   73  130\n"
     ]
    }
   ],
   "source": [
    "from sklearn.tree import DecisionTreeClassifier\n",
    "\n",
    "dt = DecisionTreeClassifier()\n",
    "dt.fit(Xtrain, Ytrain)\n",
    "y_pred = dt.predict(Xtest)\n",
    "\n",
    "print(\"Accuracy is \",np.sum(y_pred==Ytest)/len(y_pred))\n",
    "print(\"Precision is \",np.sum(y_pred & np.array(Ytest))/np.sum(y_pred))\n",
    "print(\"Recall is \",np.sum(y_pred & np.array(Ytest))/np.sum(Ytest))\n",
    "\n",
    "np.sum(Ytest)/len(Ytest)\n",
    "\n",
    "\n",
    "cm = confusion_matrix(Ytest, y_pred)\n",
    "print('\\nConfusion Matrics\\n', pd.DataFrame(cm))"
   ]
  },
  {
   "cell_type": "code",
   "execution_count": 13,
   "metadata": {},
   "outputs": [
    {
     "name": "stdout",
     "output_type": "stream",
     "text": [
      "Accuracy Matrics\n",
      "\n",
      "Accuracy is  0.8333333333333334\n",
      "Precision is  0.6906474820143885\n",
      "Recall is  0.4729064039408867\n",
      "\n",
      "Confusion Matrics\n",
      "      0   1\n",
      "0  654  43\n",
      "1  107  96\n"
     ]
    }
   ],
   "source": [
    "from sklearn.ensemble import RandomForestClassifier\n",
    "\n",
    "rf = RandomForestClassifier(n_estimators=200, max_features=2)\n",
    "rf.fit(Xtrain, Ytrain)\n",
    "y_pred = rf.predict(Xtest)\n",
    "y_prob = rf.predict_proba(Xtest)\n",
    "\n",
    "print('Accuracy Matrics\\n')\n",
    "print(\"Accuracy is \",np.sum(y_pred==Ytest)/len(y_pred))\n",
    "print(\"Precision is \",np.sum(y_pred & np.array(Ytest))/np.sum(y_pred))\n",
    "print(\"Recall is \",np.sum(y_pred & np.array(Ytest))/np.sum(Ytest))\n",
    "\n",
    "np.sum(Ytest)/len(Ytest)\n",
    "\n",
    "cm = confusion_matrix(Ytest, y_pred)\n",
    "print('\\nConfusion Matrics\\n', pd.DataFrame(cm))"
   ]
  },
  {
   "cell_type": "code",
   "execution_count": 14,
   "metadata": {},
   "outputs": [
    {
     "name": "stdout",
     "output_type": "stream",
     "text": [
      "Accuracy Matrics\n",
      "\n",
      "Accuracy is  0.8744444444444445\n",
      "Precision is  0.6991150442477876\n",
      "Recall is  0.7783251231527094\n",
      "\n",
      "Confusion Matrics\n",
      "      0    1\n",
      "0  629   68\n",
      "1   45  158\n"
     ]
    },
    {
     "data": {
      "image/png": "[encoded data removed]",
      "text/plain": [
       "<Figure size 432x432 with 1 Axes>"
      ]
     },
     "metadata": {},
     "output_type": "display_data"
    }
   ],
   "source": [
    "from sklearn.ensemble import AdaBoostClassifier\n",
    "adaboost = AdaBoostClassifier(n_estimators = 100, random_state=2018, learning_rate = 0.5)\n",
    "adaboost.fit(Xtrain, Ytrain)\n",
    "y_pred = adaboost.predict(Xtest)\n",
    "y_prob = adaboost.predict_proba(Xtest)\n",
    "\n",
    "print('Accuracy Matrics\\n')\n",
    "print(\"Accuracy is \",np.sum(y_pred==Ytest)/len(y_pred))\n",
    "print(\"Precision is \",np.sum(y_pred & np.array(Ytest))/np.sum(y_pred))\n",
    "print(\"Recall is \",np.sum(y_pred & np.array(Ytest))/np.sum(Ytest))\n",
    "\n",
    "importances = adaboost.feature_importances_\n",
    "imp_df = pd.DataFrame({'variable': Xtrain.columns.tolist(), 'importance': importances})\n",
    "# create dataframe with top 10 by variable importance\n",
    "df_top = imp_df.nlargest(20, columns = ['importance'], keep='first').sort_values(by = 'importance', ascending = True)\n",
    "labs = df_top['variable']\n",
    "\n",
    "df_top.plot.barh(fontsize = 12,  figsize = (6,6)).set_yticklabels(labs, rotation=0)\n",
    "\n",
    "cm = confusion_matrix(Ytest, y_pred)\n",
    "print('\\nConfusion Matrics\\n', pd.DataFrame(cm))"
   ]
  },
  {
   "cell_type": "code",
   "execution_count": 15,
   "metadata": {},
   "outputs": [
    {
     "name": "stdout",
     "output_type": "stream",
     "text": [
      "Accuracy Matrics\n",
      "\n",
      "Accuracy is  0.8811111111111111\n",
      "Precision is  0.7181818181818181\n",
      "Recall is  0.7783251231527094\n",
      "\n",
      "Confusion Matrics\n",
      "      0    1\n",
      "0  635   62\n",
      "1   45  158\n"
     ]
    },
    {
     "data": {
      "text/plain": [
       "<matplotlib.axes._subplots.AxesSubplot at 0xf0fef90>"
      ]
     },
     "execution_count": 15,
     "metadata": {},
     "output_type": "execute_result"
    },
    {
     "data": {
      "image/png": "[encoded data removed]",
      "text/plain": [
       "<Figure size 432x288 with 1 Axes>"
      ]
     },
     "metadata": {},
     "output_type": "display_data"
    }
   ],
   "source": [
    "model = XGBClassifier()\n",
    "model.fit(Xtrain, Ytrain)\n",
    "\n",
    "\n",
    "# make predictions for test data\n",
    "y_pred = model.predict(Xtest)\n",
    "predictions = [round(value) for value in y_pred]\n",
    "\n",
    "print('Accuracy Matrics\\n')\n",
    "print(\"Accuracy is \",np.sum(y_pred==Ytest)/len(y_pred))\n",
    "print(\"Precision is \",np.sum(y_pred & np.array(Ytest))/np.sum(y_pred))\n",
    "print(\"Recall is \",np.sum(y_pred & np.array(Ytest))/np.sum(Ytest))\n",
    "\n",
    "cm = confusion_matrix(Ytest, y_pred)\n",
    "print('\\nConfusion Matrics\\n', pd.DataFrame(cm))\n",
    "\n",
    "plot_importance(model, max_num_features=10,)\n",
    "\n",
    "#Xtrain.columns.value_counts()"
   ]
  },
  {
   "cell_type": "code",
   "execution_count": 16,
   "metadata": {},
   "outputs": [
    {
     "name": "stdout",
     "output_type": "stream",
     "text": [
      "Thresh=0.000, n=97, Accuracy: 88.11%\n",
      "Thresh=0.000, n=97, Accuracy: 88.11%\n",
      "Thresh=0.000, n=97, Accuracy: 88.11%\n",
      "Thresh=0.000, n=97, Accuracy: 88.11%\n",
      "Thresh=0.000, n=97, Accuracy: 88.11%\n",
      "Thresh=0.000, n=97, Accuracy: 88.11%\n",
      "Thresh=0.000, n=97, Accuracy: 88.11%\n",
      "Thresh=0.000, n=97, Accuracy: 88.11%\n",
      "Thresh=0.000, n=97, Accuracy: 88.11%\n",
      "Thresh=0.000, n=97, Accuracy: 88.11%\n",
      "Thresh=0.000, n=97, Accuracy: 88.11%\n",
      "Thresh=0.000, n=97, Accuracy: 88.11%\n",
      "Thresh=0.000, n=97, Accuracy: 88.11%\n",
      "Thresh=0.000, n=97, Accuracy: 88.11%\n",
      "Thresh=0.000, n=97, Accuracy: 88.11%\n",
      "Thresh=0.000, n=97, Accuracy: 88.11%\n",
      "Thresh=0.000, n=97, Accuracy: 88.11%\n",
      "Thresh=0.000, n=97, Accuracy: 88.11%\n",
      "Thresh=0.000, n=97, Accuracy: 88.11%\n",
      "Thresh=0.000, n=97, Accuracy: 88.11%\n",
      "Thresh=0.000, n=97, Accuracy: 88.11%\n",
      "Thresh=0.000, n=97, Accuracy: 88.11%\n",
      "Thresh=0.000, n=97, Accuracy: 88.11%\n",
      "Thresh=0.000, n=97, Accuracy: 88.11%\n",
      "Thresh=0.000, n=97, Accuracy: 88.11%\n",
      "Thresh=0.000, n=97, Accuracy: 88.11%\n",
      "Thresh=0.000, n=97, Accuracy: 88.11%\n",
      "Thresh=0.000, n=97, Accuracy: 88.11%\n",
      "Thresh=0.000, n=97, Accuracy: 88.11%\n",
      "Thresh=0.000, n=97, Accuracy: 88.11%\n",
      "Thresh=0.000, n=97, Accuracy: 88.11%\n",
      "Thresh=0.000, n=97, Accuracy: 88.11%\n",
      "Thresh=0.000, n=97, Accuracy: 88.11%\n",
      "Thresh=0.000, n=97, Accuracy: 88.11%\n",
      "Thresh=0.000, n=97, Accuracy: 88.11%\n",
      "Thresh=0.000, n=97, Accuracy: 88.11%\n",
      "Thresh=0.000, n=97, Accuracy: 88.11%\n",
      "Thresh=0.000, n=97, Accuracy: 88.11%\n",
      "Thresh=0.000, n=97, Accuracy: 88.11%\n",
      "Thresh=0.000, n=97, Accuracy: 88.11%\n",
      "Thresh=0.000, n=97, Accuracy: 88.11%\n",
      "Thresh=0.000, n=97, Accuracy: 88.11%\n",
      "Thresh=0.000, n=97, Accuracy: 88.11%\n",
      "Thresh=0.000, n=97, Accuracy: 88.11%\n",
      "Thresh=0.000, n=97, Accuracy: 88.11%\n",
      "Thresh=0.000, n=97, Accuracy: 88.11%\n",
      "Thresh=0.000, n=97, Accuracy: 88.11%\n",
      "Thresh=0.000, n=97, Accuracy: 88.11%\n",
      "Thresh=0.000, n=97, Accuracy: 88.11%\n",
      "Thresh=0.000, n=97, Accuracy: 88.11%\n",
      "Thresh=0.000, n=97, Accuracy: 88.11%\n",
      "Thresh=0.000, n=97, Accuracy: 88.11%\n",
      "Thresh=0.000, n=97, Accuracy: 88.11%\n",
      "Thresh=0.000, n=97, Accuracy: 88.11%\n",
      "Thresh=0.000, n=97, Accuracy: 88.11%\n",
      "Thresh=0.000, n=97, Accuracy: 88.11%\n",
      "Thresh=0.000, n=97, Accuracy: 88.11%\n",
      "Thresh=0.000, n=97, Accuracy: 88.11%\n",
      "Thresh=0.001, n=39, Accuracy: 88.11%\n",
      "Thresh=0.006, n=38, Accuracy: 88.00%\n",
      "Thresh=0.007, n=37, Accuracy: 88.22%\n",
      "Thresh=0.007, n=36, Accuracy: 88.33%\n",
      "Thresh=0.007, n=35, Accuracy: 88.11%\n",
      "Thresh=0.008, n=34, Accuracy: 88.00%\n",
      "Thresh=0.009, n=33, Accuracy: 88.44%\n",
      "Thresh=0.010, n=32, Accuracy: 88.33%\n",
      "Thresh=0.010, n=31, Accuracy: 88.00%\n",
      "Thresh=0.010, n=30, Accuracy: 88.00%\n",
      "Thresh=0.011, n=29, Accuracy: 88.22%\n",
      "Thresh=0.011, n=28, Accuracy: 88.22%\n",
      "Thresh=0.012, n=27, Accuracy: 88.33%\n",
      "Thresh=0.012, n=26, Accuracy: 87.89%\n",
      "Thresh=0.013, n=25, Accuracy: 88.33%\n",
      "Thresh=0.013, n=24, Accuracy: 87.44%\n",
      "Thresh=0.014, n=23, Accuracy: 88.00%\n",
      "Thresh=0.014, n=22, Accuracy: 87.78%\n",
      "Thresh=0.015, n=21, Accuracy: 87.89%\n",
      "Thresh=0.015, n=20, Accuracy: 87.67%\n",
      "Thresh=0.015, n=19, Accuracy: 88.33%\n",
      "Thresh=0.015, n=18, Accuracy: 88.11%\n",
      "Thresh=0.016, n=17, Accuracy: 87.89%\n",
      "Thresh=0.016, n=16, Accuracy: 87.89%\n",
      "Thresh=0.018, n=15, Accuracy: 87.56%\n",
      "Thresh=0.018, n=14, Accuracy: 87.78%\n",
      "Thresh=0.019, n=13, Accuracy: 87.22%\n",
      "Thresh=0.019, n=12, Accuracy: 88.22%\n",
      "Thresh=0.019, n=11, Accuracy: 89.11%\n",
      "Thresh=0.019, n=10, Accuracy: 88.67%\n",
      "Thresh=0.019, n=9, Accuracy: 88.33%\n",
      "Thresh=0.022, n=8, Accuracy: 88.33%\n",
      "Thresh=0.023, n=7, Accuracy: 88.56%\n",
      "Thresh=0.024, n=6, Accuracy: 88.22%\n",
      "Thresh=0.039, n=5, Accuracy: 88.22%\n",
      "Thresh=0.059, n=4, Accuracy: 88.56%\n",
      "Thresh=0.078, n=3, Accuracy: 88.00%\n",
      "Thresh=0.081, n=2, Accuracy: 80.67%\n",
      "Thresh=0.277, n=1, Accuracy: 79.33%\n"
     ]
    }
   ],
   "source": [
    "thresholds = sort(model.feature_importances_)\n",
    "for thresh in thresholds:\n",
    "\t# select features using threshold\n",
    "\tselection = SelectFromModel(model, threshold=thresh, prefit=True)\n",
    "\tselect_X_train = selection.transform(Xtrain)\n",
    "\t# train model\n",
    "\tselection_model = XGBClassifier()\n",
    "\tselection_model.fit(select_X_train, Ytrain)\n",
    "\t# eval model\n",
    "\tselect_X_test = selection.transform(Xtest)\n",
    "\ty_pred = selection_model.predict(select_X_test)\n",
    "\tpredictions = [round(value) for value in y_pred]\n",
    "\taccuracy = accuracy_score(Ytest, predictions)\n",
    "\tprint(\"Thresh=%.3f, n=%d, Accuracy: %.2f%%\" % (thresh, select_X_train.shape[1], accuracy*100.0))\n"
   ]
  },
  {
   "cell_type": "markdown",
   "metadata": {},
   "source": []
  }
 ],
 "metadata": {
  "kernelspec": {
   "display_name": "Python 3",
   "language": "python",
   "name": "python3"
  },
  "language_info": {
   "codemirror_mode": {
    "name": "ipython",
    "version": 3
   },
   "file_extension": ".py",
   "mimetype": "text/x-python",
   "name": "python",
   "nbconvert_exporter": "python",
   "pygments_lexer": "ipython3",
   "version": "3.7.3"
  }
 },
 "nbformat": 4,
 "nbformat_minor": 2
}
